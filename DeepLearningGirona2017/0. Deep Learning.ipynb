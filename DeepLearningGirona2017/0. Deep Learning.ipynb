{
 "cells": [
  {
   "cell_type": "markdown",
   "metadata": {
    "deletable": true,
    "editable": true
   },
   "source": [
    "\n",
    "# Deep Learning: How to solve a problem that has kept generations of PhDs busy with 10 lines of code.\n"
   ]
  },
  {
   "cell_type": "markdown",
   "metadata": {
    "deletable": true,
    "editable": true
   },
   "source": [
    "Deep learning is one of the fastest growing areas of machine learning and a hot topic in both academia and industry. This course will cover the basics of deep learning by using a hands-on approach.\n",
    "\n",
    "### Approach\n",
    "We will illustrate all contents with Jupyter notebooks, a web application that allows you to create and share documents that contain live code, equations, visualizations and explanatory text.\n",
    "\n",
    "### Prerequisites\n",
    "Minimal experience on Python programming, basic knowledge of calculus, linear algebra, and probability theory. Attendees are expected to bring their own laptops for the hands-on practical work.\n",
    "\n",
    "### Who\n",
    "\n",
    "INSTRUCTORS: Jordi Vitrià. Full Professor at UB.\n",
    "\n",
    "\n",
    "### Topics\n",
    "\n",
    "* ML Basic Concepts. Numpy + SGD.\n",
    "* Automatic Differentiation. Autodiff.\n",
    "* Computation Graphs and tricks. Tensorflow + GPUs. \n",
    "* High level Models. Keras\n",
    "\n",
    "### Software installation\n",
    "\n",
    "Course repository: https://github.com/DeepLearningUB/DeepLearningGirona2017\n",
    "\n",
    "The best way to run the course software is to use a **Docker container**. There’s full documentation on installing Docker at ``docker.com``, but in a few words, the steps are:\n",
    "\n",
    "+ Go to ``docs.docker.com`` in your browser.\n",
    "+ Step one of the instructions sends you to download Docker.\n",
    "+ Run that downloaded file to install Docker.\n",
    "+ At the end of the install process a whale in the top status bar indicates that Docker is running, and accessible from a terminal.\n",
    "+ Click the whale to get ``Preferences``, and other options.\n",
    "+ Open a command-line terminal, and run some Docker commands to verify that Docker is working as expected.\n",
    "Some good commands to try are ``docker version`` to check that you have the latest release installed, and ``docker ps`` and ``docker run hello-world`` to verify that Docker is running. \n",
    "+ By default, Docker is set to use 2 processors. You can increase processing power for the app by setting this to a higher number in ``Preferences``, or lower it to have Docker for Mac use fewer computing resources.\n",
    "+ Memory - By default, Docker is set to use 2 GB runtime memory, allocated from the total available memory on your computer. You can increase the RAM on the app to get faster performance by setting this number higher (for example to 3) or lower (to 1) if you want Docker to use less memory.\n",
    "\n",
    "Once Docker is installed, you can dowload the image of this course:\n",
    "\n",
    "+ In a terminal, go to your course folder and run (This operation requires a good internet connection; it will take some minutes):  ``docker pull datascienceub/deepub``    \n",
    "+ Run the ``deepub`` image on your system: ``docker run -it -p 8888:8888 -p 6006:6006 -v /$(pwd):/notebooks datascienceub/deepub``\n",
    "+ Once these steps have been done, you can check the installation by starting your web browser and introducing this  URL: ``http://localhost:8888``.\n",
    "+ Open a new Jupyter notebook and execute this instruction in a code cell: ``!git clone https://github.com/DeepLearningUB/DeepLearningGirona2017``"
   ]
  },
  {
   "cell_type": "code",
   "execution_count": 1,
   "metadata": {
    "collapsed": false,
    "deletable": true,
    "editable": true,
    "scrolled": true
   },
   "outputs": [
    {
     "name": "stdout",
     "output_type": "stream",
     "text": [
      "('numpy:', '1.11.2')\n",
      "('scipy:', '0.18.1')\n",
      "('matplotlib:', '1.5.3')\n",
      "('iPython:', '5.1.0')\n",
      "('pandas:', u'0.19.1')\n",
      "('scikit-learn:', '0.18.1')\n",
      "('tensorflow:', '0.11.0')\n",
      "('keras:', '1.1.2')\n"
     ]
    },
    {
     "name": "stderr",
     "output_type": "stream",
     "text": [
      "Using TensorFlow backend.\n"
     ]
    }
   ],
   "source": [
    "import numpy\n",
    "print('numpy:', numpy.__version__)\n",
    "\n",
    "import scipy\n",
    "print('scipy:', scipy.__version__)\n",
    "\n",
    "import matplotlib\n",
    "print('matplotlib:', matplotlib.__version__)\n",
    "\n",
    "import IPython\n",
    "print('iPython:', IPython.__version__)\n",
    "\n",
    "import pandas\n",
    "print('pandas:', pandas.__version__)\n",
    "\n",
    "import sklearn\n",
    "print('scikit-learn:', sklearn.__version__)\n",
    "\n",
    "import tensorflow\n",
    "print('tensorflow:', tensorflow.__version__)\n",
    "\n",
    "import keras\n",
    "print('keras:', keras.__version__)"
   ]
  }
 ],
 "metadata": {
  "anaconda-cloud": {},
  "kernelspec": {
   "display_name": "Python 2",
   "language": "python",
   "name": "python2"
  },
  "language_info": {
   "codemirror_mode": {
    "name": "ipython",
    "version": 2
   },
   "file_extension": ".py",
   "mimetype": "text/x-python",
   "name": "python",
   "nbconvert_exporter": "python",
   "pygments_lexer": "ipython2",
   "version": "2.7.6"
  }
 },
 "nbformat": 4,
 "nbformat_minor": 0
}
