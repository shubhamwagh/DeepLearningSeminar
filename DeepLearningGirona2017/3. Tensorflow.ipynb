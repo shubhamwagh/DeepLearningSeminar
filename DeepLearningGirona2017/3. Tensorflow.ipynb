{
 "cells": [
  {
   "cell_type": "markdown",
   "metadata": {
    "nbpresent": {
     "id": "6ab1abd5-af7f-4e9e-96f1-0cf6c9d1b158"
    },
    "slideshow": {
     "slide_type": "slide"
    }
   },
   "source": [
    "# Tensorflow\n",
    "\n",
    "When starting off with deep learning, one of the first questions to ask is, which framework to learn?\n",
    "\n",
    "Common choices include Theano, TensorFlow, Torch, and Keras. All of these choices have their own pros and cons and have their own way of doing things.\n",
    "\n",
    "> From [**The Anatomy of Deep Learning Frameworks**](https://medium.com/@gokul_uf/the-anatomy-of-deep-learning-frameworks-46e2a7af5e47#.3ywhrk1st)\n",
    "\n",
    "> The core components of a deep learning framework we must consider are:\n",
    "\n",
    "> + How Tensor Objects are defined. At the heart of the framework is the tensor object. A tensor is a generalization of a matrix to n-dimensions. We need a Tensor Object that supports storing the data in form of tensors. Not just that, we would like the object to be able to convert other data types (images, text, video) into tensors and back, supporting indexing, overloading operators, having a space efficient way to store the data and so on.\n",
    "+ How Operations on the Tensor Object are defined. A neural network can be considered as a series of Operations performed on an input tensor to give an output. \n",
    "+ The use of a Computation Graph and its Optimizations. Instead of implementing operations as functions, they are usually implemented as **classes**. This allows us to store more information about the operation like calculated shape of the output (useful for sanity checks), how to compute the gradient or the gradient itself (for the auto-differentiation), have ways to be able to decide whether to compute the op on GPU or CPU and so on. The power of neural networks lies in the ability to chain multiple operations to form a powerful approximator. Therefore, the standard use case is that you can initialize a tensor, perform actions after actions on them and finally interpret the resulting tensor as labels or real values. Unfortunately, as you chain more and more operations together, several issues arise that can drastically slow down your code and introduce bugs as well. There are more such issues and it becomes necessary to be able to get a bigger picture to even notice that these issues exist. We need a way to optimize the resultant chain of operations for both space and time. A Computation Graph which is basically an object that contains links to the instances of various Ops and the relations between which operation takes the output of which operation as well as additional information. \n",
    "+ The use of Auto-differentiation tools. Another benefit of having the computational graph is that calculating gradients used in the learning phase becomes modular and straightforward to compute. \n",
    "+ The use of BLAS/cuBLAS and cuDNN extensions for maximizing performance. BLAS or Basic Linear Algebra Subprograms are a collection of optimized matrix operations, initially written in Fortran. These can be leveraged to do very fast matrix (tensor) operations and can provide significant speedups. There are many other software packages like Intel MKL, ATLAS which also perform similar functions. BLAS packages are usually optimized assuming that the instructions will be run on a CPU. In the deep learning situation, this is not the case and BLAS may not be able to fully exploit the parallelism offered by GPGPUs. To solve this issue, NVIDIA has released cuBLAS which is optimized for GPUs. This is now included with the CUDA toolkit.\n",
    "\n",
    "\n",
    "\n",
    "The computational model for Tensorflow (`tf`) is a **directed graph**.\n",
    "\n",
    "**Nodes** are *functions* (*operations* in `tf` terminology) and **edges** are *tensors*. \n",
    "\n",
    "**Tensor** are multidimensional data arrays. \n",
    "\n",
    "$$f(a,b) = (a*b) + (a+b)$$\n",
    "\n",
    "![alt text](images/t1.png)\n",
    "\n",
    "There are several reasons for this design:\n",
    "+ The most important is that is a good way to split up computation into small, **easily differentiable** pieces. `tf` uses automatic differentiation to automatically compute the derivative of every node with respect any other node that can affect the first node's output.\n",
    "+ The grah is also a convenient way for distributing computation across multiple CPUs, GPUs, etc.\n",
    "\n",
    "The primary API of `tf` (written in C++) is accessed through Python.\n"
   ]
  },
  {
   "cell_type": "markdown",
   "metadata": {
    "nbpresent": {
     "id": "47a4bdec-f25c-4842-9025-77aa6ace8805"
    },
    "slideshow": {
     "slide_type": "slide"
    }
   },
   "source": [
    "There are different way of installing `tf`:\n",
    "\n",
    "+ Pip install: May impact existing Python programs on your machine.\n",
    "+ Virtualenv install: Install TensorFlow in its own directory, not impacting any existing Python programs on your machine.\n",
    "+ Anaconda install (Windows: only Python 3, not Python 2.7): Install TensorFlow in its own environment for those running the Anaconda Python distribution. Does not impact existing Python programs on your machine.\n",
    "+ Docker install: Run TensorFlow in a Docker container isolated from all other programs on your machine. It allows coexisting ``tf`` versions.\n",
    "+ Installing from sources: Install TensorFlow by building a pip wheel that you then install using pip.\n",
    "\n",
    "Our preferred way is Docker install."
   ]
  },
  {
   "cell_type": "markdown",
   "metadata": {
    "nbpresent": {
     "id": "20019a20-ae7f-4beb-8cd4-d68150382b1e"
    }
   },
   "source": [
    "## Fundamentals\n",
    "\n",
    "`tf` computation graphs are described in code with `tf` API."
   ]
  },
  {
   "cell_type": "code",
   "execution_count": 1,
   "metadata": {
    "collapsed": false,
    "nbpresent": {
     "id": "6937c67a-43fa-4f1e-ab3d-89a199c83eb0"
    }
   },
   "outputs": [
    {
     "name": "stdout",
     "output_type": "stream",
     "text": [
      "0.11.0\n"
     ]
    }
   ],
   "source": [
    "import tensorflow as tf\n",
    "print(tf.__version__)"
   ]
  },
  {
   "cell_type": "code",
   "execution_count": 2,
   "metadata": {
    "code_folding": [],
    "collapsed": false,
    "nbpresent": {
     "id": "aae85c45-c89c-401a-9131-01e07651e0af"
    }
   },
   "outputs": [
    {
     "name": "stdout",
     "output_type": "stream",
     "text": [
      "a=2\n",
      "b=3\n",
      "(a+b)+(a*b) = 11\n"
     ]
    }
   ],
   "source": [
    "# Basic constant operations = to assign a value to a tensor\n",
    "a = tf.constant(2)\n",
    "b = tf.constant(3)\n",
    "c = a+b \n",
    "d = a*b\n",
    "e = c+d\n",
    "\n",
    "# non interactive session\n",
    "\n",
    "with tf.Session() as sess:\n",
    "    print(\"a=2\")\n",
    "    print(\"b=3\")\n",
    "    print(\"(a+b)+(a*b) = %i\" % sess.run(e))"
   ]
  },
  {
   "cell_type": "markdown",
   "metadata": {},
   "source": [
    "You can create initialized tensors in many ways:"
   ]
  },
  {
   "cell_type": "code",
   "execution_count": 3,
   "metadata": {
    "collapsed": false
   },
   "outputs": [
    {
     "name": "stdout",
     "output_type": "stream",
     "text": [
      "[[0 0 0]\n",
      " [0 0 0]]\n",
      "[[1 1 1]\n",
      " [1 1 1]]\n",
      "[[ 23.89999962  23.89999962  23.89999962]\n",
      " [ 23.89999962  23.89999962  23.89999962]\n",
      " [ 23.89999962  23.89999962  23.89999962]]\n",
      "[0 1 2 3 4 5 6 7 8 9]\n"
     ]
    }
   ],
   "source": [
    "a = tf.zeros([2,3], tf.int32)\n",
    "b = tf.ones([2,3], tf.int32)\n",
    "c = tf.fill([3,3], 23.9)\n",
    "d = tf.range(0,10,1)\n",
    "\n",
    "with tf.Session() as sess:\n",
    "    print(sess.run(a))\n",
    "    print(sess.run(b))\n",
    "    print(sess.run(c))\n",
    "    print(sess.run(d))"
   ]
  },
  {
   "cell_type": "markdown",
   "metadata": {},
   "source": [
    "``tf`` sequences are not iterable!\n",
    "\n",
    "We can also generate random variables:"
   ]
  },
  {
   "cell_type": "code",
   "execution_count": 5,
   "metadata": {
    "collapsed": false
   },
   "outputs": [
    {
     "name": "stdout",
     "output_type": "stream",
     "text": [
      "[[ 0.44119048 -0.24833009]\n",
      " [ 0.93406135  0.38558838]]\n",
      "[[ 0.34734356  0.64993799]\n",
      " [ 0.74053848  0.3835789 ]]\n"
     ]
    }
   ],
   "source": [
    "a = tf.random_normal([2,2], 0.0, 1.0)\n",
    "b = tf.random_uniform([2,2], 0.0, 1.0)\n",
    "\n",
    "with tf.Session() as sess:\n",
    "    print(sess.run(a))\n",
    "    print(sess.run(b))"
   ]
  },
  {
   "cell_type": "code",
   "execution_count": 4,
   "metadata": {
    "code_folding": [],
    "collapsed": false,
    "nbpresent": {
     "id": "3fd06df9-1eec-447c-bed7-d88be2d8d4d9"
    }
   },
   "outputs": [
    {
     "name": "stdout",
     "output_type": "stream",
     "text": [
      "a = 5\n",
      "b = 3\n",
      "(a+b)+(a*b) = 23\n"
     ]
    }
   ],
   "source": [
    "# Basic operations with variable graph input\n",
    "\n",
    "a = tf.placeholder(tf.int16)\n",
    "b = tf.placeholder(tf.int16)\n",
    "c = tf.add(a,b) \n",
    "d = tf.mul(a,b)\n",
    "e = tf.add(c,d)\n",
    "\n",
    "values = feed_dict={a: 5, b: 3}\n",
    "\n",
    "# non interactive session\n",
    "\n",
    "with tf.Session() as sess:\n",
    "    print('a = %i' % sess.run(a, values))\n",
    "    print('b = %i' % sess.run(b, values))\n",
    "    print(\"(a+b)+(a*b) = %i\" % sess.run(e, values))"
   ]
  },
  {
   "cell_type": "markdown",
   "metadata": {
    "nbpresent": {
     "id": "92384d6d-bed6-4e4e-bfc1-ddf88de0963e"
    }
   },
   "source": [
    "A computational graph is a series of functions chained together, each passing its output to zero, one or more functions further along the chain.\n",
    "\n",
    "In this way we can construct very complex transformations on data by using a library of simple functions.\n",
    "\n",
    "Nodes represent some sort of computation beign done in the graph context.\n",
    "\n",
    "Edges are the actual values (tensors) that get passed to and from nodes.\n",
    "\n",
    "![alt text](images/t2.png)\n",
    "\n",
    "+ The values flowing into the graph can come from different sources: from a different graph, from a file, entered by the client, etc. The *input* nodes simply pass on values given to them.\n",
    "+ The other nodes take values, apply an operation and output their result. \n",
    "\n",
    "Values running on edges are tensors:"
   ]
  },
  {
   "cell_type": "code",
   "execution_count": 7,
   "metadata": {
    "collapsed": false,
    "nbpresent": {
     "id": "a4071b69-ab10-4ccd-93ed-b445d8ba7299"
    }
   },
   "outputs": [
    {
     "name": "stdout",
     "output_type": "stream",
     "text": [
      "[2 2]\n",
      "[3 3]\n",
      "[11 11]\n"
     ]
    }
   ],
   "source": [
    "# Basic operations with variable as graph input\n",
    "\n",
    "a = tf.placeholder(tf.int16,shape=[2])\n",
    "b = tf.placeholder(tf.int16,shape=[2])\n",
    "c = tf.add(a,b) \n",
    "d = tf.mul(a,b)\n",
    "e = tf.add(c,d)\n",
    "\n",
    "variables = feed_dict={a: [2,2], b: [3,3]}\n",
    "\n",
    "# non interactive session\n",
    "\n",
    "with tf.Session() as sess:\n",
    "    print(sess.run(a, variables))\n",
    "    print(sess.run(b, variables))\n",
    "    print(sess.run(e, variables))"
   ]
  },
  {
   "cell_type": "markdown",
   "metadata": {
    "nbpresent": {
     "id": "e8e3c449-56f2-4b1e-9112-6b013cfc6ec6"
    }
   },
   "source": [
    "### Exercise\n",
    "\n",
    "Implement this computational graph:\n",
    "\n",
    "![alt text](images/t3.png)\n"
   ]
  },
  {
   "cell_type": "code",
   "execution_count": 5,
   "metadata": {
    "code_folding": [],
    "collapsed": false,
    "nbpresent": {
     "id": "77252053-4889-4a38-a497-49465a2e9ac1"
    }
   },
   "outputs": [
    {
     "name": "stdout",
     "output_type": "stream",
     "text": [
      "a = 5\n",
      "b = 3\n",
      "(a+b)+(a*b)+b = 26\n"
     ]
    }
   ],
   "source": [
    "# your code here\n",
    "\n",
    "a = tf.placeholder(tf.int16)\n",
    "b = tf.placeholder(tf.int16)\n",
    "c = tf.add(a,b) \n",
    "d = tf.mul(a,b)\n",
    "e = tf.add(tf.add(c,d),b)\n",
    "\n",
    "values = feed_dict={a: 5, b: 3}\n",
    "\n",
    "# non interactive session\n",
    "\n",
    "with tf.Session() as sess:\n",
    "    print('a = %i' % sess.run(a, values))\n",
    "    print('b = %i' % sess.run(b, values))\n",
    "    print(\"(a+b)+(a*b)+b = %i\" % sess.run(e, values))"
   ]
  },
  {
   "cell_type": "markdown",
   "metadata": {
    "nbpresent": {
     "id": "86c6424a-3e4a-4e6c-98f1-f9917cc659c8"
    }
   },
   "source": [
    "There are certein connections between nodes that are not allowed: you cannot create **circular dependencies**.\n",
    "\n",
    "> Dependency: Any node A that is required for the computation of a later node B is said to be a **dependency** of B.\n",
    "\n",
    "The main reason is that dependencies create endless feedback loops."
   ]
  },
  {
   "cell_type": "markdown",
   "metadata": {
    "nbpresent": {
     "id": "f3a49756-9e22-421c-a0d3-8bc670856ab0"
    }
   },
   "source": [
    "As we have seen in previous code, `tf` workflow is a two-step process:\n",
    "\n",
    "+ Define the computation graph.\n",
    "+ Run the graph with data."
   ]
  },
  {
   "cell_type": "code",
   "execution_count": 6,
   "metadata": {
    "collapsed": false,
    "nbpresent": {
     "id": "24af87db-9051-4768-9064-079dc5e9b965"
    }
   },
   "outputs": [
    {
     "name": "stdout",
     "output_type": "stream",
     "text": [
      "23\n"
     ]
    }
   ],
   "source": [
    "# graph definition\n",
    "# we can assign a name to every node\n",
    "\n",
    "a = tf.placeholder(tf.int32, name='input_a')\n",
    "b = tf.placeholder(tf.int32, name='input_b')\n",
    "c = tf.add(a,b,name='add_1') \n",
    "d = tf.mul(a,b,name='mul_1')\n",
    "e = tf.add(c,d,name='add_2')\n",
    "\n",
    "values = feed_dict={a: 5, b: 3}\n",
    "\n",
    "# now we can run the graph in an interactive session\n",
    "\n",
    "sess = tf.Session()\n",
    "print(sess.run(e, values))\n",
    "sess.close()"
   ]
  },
  {
   "cell_type": "markdown",
   "metadata": {},
   "source": [
    "### 'tf' Neural Network from scratch\n",
    "\n",
    "Let's classify handwritten digits:\n",
    "\n",
    "![alt text](images/mnistExamples.png)"
   ]
  },
  {
   "cell_type": "code",
   "execution_count": 7,
   "metadata": {
    "collapsed": false
   },
   "outputs": [
    {
     "name": "stderr",
     "output_type": "stream",
     "text": [
      "/usr/local/lib/python2.7/dist-packages/matplotlib/font_manager.py:273: UserWarning: Matplotlib is building the font cache using fc-list. This may take a moment.\n",
      "  warnings.warn('Matplotlib is building the font cache using fc-list. This may take a moment.')\n"
     ]
    },
    {
     "name": "stdout",
     "output_type": "stream",
     "text": [
      "Extracting data/train-images-idx3-ubyte.gz\n",
      "Extracting data/train-labels-idx1-ubyte.gz\n",
      "Extracting data/t10k-images-idx3-ubyte.gz\n",
      "Extracting data/t10k-labels-idx1-ubyte.gz\n"
     ]
    },
    {
     "data": {
      "image/png": "[encoded data removed]",
      "text/plain": [
       "<matplotlib.figure.Figure at 0x7f0b1dcd2850>"
      ]
     },
     "metadata": {},
     "output_type": "display_data"
    },
    {
     "name": "stdout",
     "output_type": "stream",
     "text": [
      "Class:  7\n"
     ]
    }
   ],
   "source": [
    "# Import MINST data\n",
    "# The MNIST data is split into three parts: 55,000 data points of training data (mnist.train), \n",
    "# 10,000 points of test data (mnist.test), and 5,000 points of validation data (mnist.validation).\n",
    "\n",
    "# Both the training set and test set contain images and their corresponding labels; for example the \n",
    "# training images are mnist.train.images and the training labels are mnist.train.labels.\n",
    "import tensorflow as tf\n",
    "from tensorflow.examples.tutorials.mnist import input_data\n",
    "from matplotlib import pyplot as plt\n",
    "import numpy as np\n",
    "%matplotlib inline\n",
    "\n",
    "mnist = input_data.read_data_sets(\"data/\", one_hot=True)\n",
    "\n",
    "fig, ax = plt.subplots(figsize=(2, 2))\n",
    "plt.imshow(mnist.train.images[0].reshape((28, 28)), interpolation='nearest', cmap='gray')\n",
    "plt.show()\n",
    "\n",
    "print \"Class: \", np.argmax(mnist.train.labels[0])"
   ]
  },
  {
   "cell_type": "code",
   "execution_count": 10,
   "metadata": {
    "collapsed": true
   },
   "outputs": [],
   "source": [
    "# Parameters\n",
    "learning_rate = 0.001\n",
    "training_epochs = 15       #visiting every data set 15 times\n",
    "batch_size = 100\n",
    "display_step = 1\n",
    "\n",
    "# Network Parameters\n",
    "n_hidden_1 = 256 # 1st layer number of features\n",
    "n_hidden_2 = 256 # 2nd layer number of features\n",
    "n_input    = 784 # MNIST data input (img shape: 28*28)\n",
    "n_classes  = 10  # MNIST total classes (0-9 digits)\n",
    "\n",
    "# tf Graph input\n",
    "x = tf.placeholder(\"float\", [None, n_input])\n",
    "y = tf.placeholder(\"float\", [None, n_classes])"
   ]
  },
  {
   "cell_type": "code",
   "execution_count": 11,
   "metadata": {
    "collapsed": true
   },
   "outputs": [],
   "source": [
    "# Create model\n",
    "def multilayer_perceptron(x, weights, biases):\n",
    "    # Hidden layer with RELU activation\n",
    "    layer_1 = tf.add(tf.matmul(x, weights['h1']), biases['b1'])\n",
    "    layer_1 = tf.nn.relu(layer_1)\n",
    "    # Hidden layer with RELU activation\n",
    "    layer_2 = tf.add(tf.matmul(layer_1, weights['h2']), biases['b2'])\n",
    "    layer_2 = tf.nn.relu(layer_2)\n",
    "    # Output layer with linear activation\n",
    "    out_layer = tf.matmul(layer_2, weights['out']) + biases['out']\n",
    "    return out_layer"
   ]
  },
  {
   "cell_type": "code",
   "execution_count": 15,
   "metadata": {
    "collapsed": false
   },
   "outputs": [],
   "source": [
    "# Store layers weight & bias\n",
    "weights = {\n",
    "    'h1': tf.Variable(tf.random_normal([n_input, n_hidden_1])),\n",
    "    'h2': tf.Variable(tf.random_normal([n_hidden_1, n_hidden_2])),\n",
    "    'out': tf.Variable(tf.random_normal([n_hidden_2, n_classes]))\n",
    "}\n",
    "biases = {\n",
    "    'b1': tf.Variable(tf.random_normal([n_hidden_1])),\n",
    "    'b2': tf.Variable(tf.random_normal([n_hidden_2])),\n",
    "    'out': tf.Variable(tf.random_normal([n_classes]))\n",
    "}\n",
    "\n",
    "# Construct model\n",
    "pred = multilayer_perceptron(x, weights, biases)\n",
    "\n",
    "# Define loss and optimizer\n",
    "cost = tf.reduce_mean(tf.nn.softmax_cross_entropy_with_logits(pred, y))\n",
    "optimizer = tf.train.AdamOptimizer(learning_rate=learning_rate).minimize(cost)\n",
    "\n",
    "# Initializing the variables\n",
    "init = tf.initialize_all_variables()"
   ]
  },
  {
   "cell_type": "code",
   "execution_count": 16,
   "metadata": {
    "collapsed": false
   },
   "outputs": [
    {
     "name": "stdout",
     "output_type": "stream",
     "text": [
      "Epoch: 0001 cost= 151.017532186\n",
      "Epoch: 0002 cost= 38.890965088\n",
      "Epoch: 0003 cost= 24.172612035\n",
      "Epoch: 0004 cost= 16.736992462\n",
      "Epoch: 0005 cost= 12.226784556\n",
      "Epoch: 0006 cost= 9.034071729\n",
      "Epoch: 0007 cost= 6.862195282\n",
      "Epoch: 0008 cost= 5.177355935\n",
      "Epoch: 0009 cost= 3.936332093\n",
      "Epoch: 0010 cost= 2.868653337\n",
      "Epoch: 0011 cost= 2.163612931\n",
      "Epoch: 0012 cost= 1.609665632\n",
      "Epoch: 0013 cost= 1.274531050\n",
      "Epoch: 0014 cost= 1.010770754\n",
      "Epoch: 0015 cost= 0.722828184\n",
      "Optimization Finished!\n",
      "Accuracy: 0.944\n"
     ]
    }
   ],
   "source": [
    "# Launch the graph\n",
    "with tf.Session() as sess:\n",
    "    sess.run(init)\n",
    "\n",
    "    # Training cycle\n",
    "    for epoch in range(training_epochs):\n",
    "        avg_cost = 0.\n",
    "        total_batch = int(mnist.train.num_examples/batch_size)\n",
    "        # Loop over all batches\n",
    "        for i in range(total_batch):\n",
    "            batch_x, batch_y = mnist.train.next_batch(batch_size)\n",
    "            # Run optimization op (backprop) and cost op (to get loss value)\n",
    "            _, c = sess.run([optimizer, cost], feed_dict={x: batch_x,\n",
    "                                                          y: batch_y})\n",
    "            # Compute average loss\n",
    "            avg_cost += c / total_batch\n",
    "        \n",
    "        # Display logs per epoch step\n",
    "        if epoch % display_step == 0:\n",
    "            print \"Epoch:\", '%04d' % (epoch+1), \"cost=\", \\\n",
    "                \"{:.9f}\".format(avg_cost)\n",
    "    \n",
    "    print \"Optimization Finished!\"\n",
    "\n",
    "    # Test model\n",
    "    correct_prediction = tf.equal(tf.argmax(pred, 1), tf.argmax(y, 1))\n",
    "    # Calculate accuracy\n",
    "    accuracy = tf.reduce_mean(tf.cast(correct_prediction, \"float\"))\n",
    "    print \"Accuracy:\", accuracy.eval({x: mnist.test.images, y: mnist.test.labels})"
   ]
  },
  {
   "cell_type": "code",
   "execution_count": null,
   "metadata": {
    "collapsed": true
   },
   "outputs": [],
   "source": []
  }
 ],
 "metadata": {
  "anaconda-cloud": {},
  "kernelspec": {
   "display_name": "Python 2",
   "language": "python",
   "name": "python2"
  },
  "language_info": {
   "codemirror_mode": {
    "name": "ipython",
    "version": 2
   },
   "file_extension": ".py",
   "mimetype": "text/x-python",
   "name": "python",
   "nbconvert_exporter": "python",
   "pygments_lexer": "ipython2",
   "version": "2.7.6"
  },
  "nbpresent": {
   "slides": {
    "0eb9ee9c-5399-4988-94f3-8cee78537404": {
     "id": "0eb9ee9c-5399-4988-94f3-8cee78537404",
     "prev": null,
     "regions": {
      "4acc45f3-e023-4446-a93e-619fe0b22943": {
       "attrs": {
        "height": 0.8,
        "width": 0.8,
        "x": 0.1,
        "y": 0.1
       },
       "content": {
        "cell": "47a4bdec-f25c-4842-9025-77aa6ace8805",
        "part": "whole"
       },
       "id": "4acc45f3-e023-4446-a93e-619fe0b22943"
      }
     }
    },
    "10844e3a-543e-48a6-b696-d4dcfd40d55f": {
     "id": "10844e3a-543e-48a6-b696-d4dcfd40d55f",
     "prev": "5fc39987-5f96-4eef-88a0-b974113bfbab",
     "regions": {
      "af141f66-ba8f-4546-ab4a-e5e22cac1950": {
       "attrs": {
        "height": 0.8,
        "width": 0.8,
        "x": 0.1,
        "y": 0.1
       },
       "content": {
        "cell": "f3a49756-9e22-421c-a0d3-8bc670856ab0",
        "part": "whole"
       },
       "id": "af141f66-ba8f-4546-ab4a-e5e22cac1950"
      }
     }
    },
    "131dcdac-6159-44e0-9867-2c6521c536b9": {
     "id": "131dcdac-6159-44e0-9867-2c6521c536b9",
     "prev": "f788e7d5-5631-4090-b44e-03ea24aa1887",
     "regions": {
      "1ef1e8fa-cac5-4873-a3f7-d39435a2c89a": {
       "attrs": {
        "height": 0.8,
        "width": 0.8,
        "x": 0.1,
        "y": 0.1
       },
       "content": {
        "cell": "efe7c304-c8de-4d24-8bd0-dbfa078133b5",
        "part": "whole"
       },
       "id": "1ef1e8fa-cac5-4873-a3f7-d39435a2c89a"
      }
     }
    },
    "168f7f5f-f3e3-46ad-b488-436b5cc1fea0": {
     "id": "168f7f5f-f3e3-46ad-b488-436b5cc1fea0",
     "prev": "33131316-744b-45af-b499-9e1784ddd7ed",
     "regions": {
      "930c6824-963f-4cd5-bfde-65130261f1c7": {
       "attrs": {
        "height": 0.8,
        "width": 0.8,
        "x": 0.1,
        "y": 0.1
       },
       "content": {
        "cell": "a8218e4e-4edc-48b5-a6a3-3af3169dee3f",
        "part": "whole"
       },
       "id": "930c6824-963f-4cd5-bfde-65130261f1c7"
      }
     }
    },
    "2b9c3116-58b8-4773-8bb0-1bf8fe05296d": {
     "id": "2b9c3116-58b8-4773-8bb0-1bf8fe05296d",
     "prev": "3ff0f7df-82f5-43b2-be58-8ef1fea20437",
     "regions": {
      "e97963bc-5880-455f-b739-fe2035ff0725": {
       "attrs": {
        "height": 0.8,
        "width": 0.8,
        "x": 0.1,
        "y": 0.1
       },
       "content": {
        "cell": "ee6da6ee-dd82-49bf-8a6f-b92a8413b396",
        "part": "whole"
       },
       "id": "e97963bc-5880-455f-b739-fe2035ff0725"
      }
     }
    },
    "33131316-744b-45af-b499-9e1784ddd7ed": {
     "id": "33131316-744b-45af-b499-9e1784ddd7ed",
     "prev": "dfb0485f-4165-455b-a321-1368a5593f90",
     "regions": {
      "2f4480ab-af8e-4c1b-bbe7-e31da84b1df1": {
       "attrs": {
        "height": 0.8,
        "width": 0.8,
        "x": 0.1,
        "y": 0.1
       },
       "content": {
        "cell": "58f4f8ea-e41a-469a-a078-bb1e1725a1d3",
        "part": "whole"
       },
       "id": "2f4480ab-af8e-4c1b-bbe7-e31da84b1df1"
      }
     }
    },
    "39446710-2f8f-48cc-9800-22e7cbf9baa7": {
     "id": "39446710-2f8f-48cc-9800-22e7cbf9baa7",
     "prev": "564fcf1c-547b-4fc1-a39d-8998a92426ce",
     "regions": {
      "5682b394-0a6a-4d97-974f-ecaeb0e167fb": {
       "attrs": {
        "height": 0.8,
        "width": 0.8,
        "x": 0.1,
        "y": 0.1
       },
       "content": {
        "cell": "a637e0a1-a62b-49a1-99e2-d8eeb974fada",
        "part": "whole"
       },
       "id": "5682b394-0a6a-4d97-974f-ecaeb0e167fb"
      }
     }
    },
    "3c0bfcfd-edb6-4599-814d-85a7bdd827d3": {
     "id": "3c0bfcfd-edb6-4599-814d-85a7bdd827d3",
     "prev": "b8ef6042-0e70-43fe-a97b-c3c5e98e48a9",
     "regions": {
      "d00b6aa4-5b6d-4c1f-9db3-0f8e0c27be3b": {
       "attrs": {
        "height": 0.8,
        "width": 0.8,
        "x": 0.1,
        "y": 0.1
       },
       "content": {
        "cell": "6937c67a-43fa-4f1e-ab3d-89a199c83eb0",
        "part": "whole"
       },
       "id": "d00b6aa4-5b6d-4c1f-9db3-0f8e0c27be3b"
      }
     }
    },
    "3ff0f7df-82f5-43b2-be58-8ef1fea20437": {
     "id": "3ff0f7df-82f5-43b2-be58-8ef1fea20437",
     "prev": "8b8a4005-fafe-4345-b56a-ceea0afd3563",
     "regions": {
      "94792abe-ffb8-422b-89d2-7345f8cd9706": {
       "attrs": {
        "height": 0.8,
        "width": 0.8,
        "x": 0.1,
        "y": 0.1
       },
       "content": {
        "cell": "ca99d481-e62a-45c3-960c-ad87b458d8cb",
        "part": "whole"
       },
       "id": "94792abe-ffb8-422b-89d2-7345f8cd9706"
      }
     }
    },
    "42b53f50-3c32-4035-9006-72199a92dfa1": {
     "id": "42b53f50-3c32-4035-9006-72199a92dfa1",
     "prev": "99bfd62c-37d6-4513-975f-7453d45208bf",
     "regions": {
      "b3a398a7-4346-4a59-aea5-13fa483aab87": {
       "attrs": {
        "height": 0.8,
        "width": 0.8,
        "x": 0.1,
        "y": 0.1
       },
       "content": {
        "cell": "a4071b69-ab10-4ccd-93ed-b445d8ba7299",
        "part": "whole"
       },
       "id": "b3a398a7-4346-4a59-aea5-13fa483aab87"
      }
     }
    },
    "4d691fc4-2db6-4207-aafe-5534e2efcc31": {
     "id": "4d691fc4-2db6-4207-aafe-5534e2efcc31",
     "prev": "9169cd80-86a2-4764-bf37-e1c61e762403",
     "regions": {
      "1016787c-0369-47d3-8a83-316f76b88dd7": {
       "attrs": {
        "height": 0.8,
        "width": 0.8,
        "x": 0.1,
        "y": 0.1
       },
       "content": {
        "cell": "47fcb7a3-7d43-4dfc-9b03-2fc208b165e6",
        "part": "whole"
       },
       "id": "1016787c-0369-47d3-8a83-316f76b88dd7"
      }
     }
    },
    "50c442dc-bea5-4ccb-a16b-32b67ba7974d": {
     "id": "50c442dc-bea5-4ccb-a16b-32b67ba7974d",
     "prev": "39446710-2f8f-48cc-9800-22e7cbf9baa7",
     "regions": {
      "fdeaf8e6-6364-4c4d-a0b7-aeffa5ca4658": {
       "attrs": {
        "height": 0.8,
        "width": 0.8,
        "x": 0.1,
        "y": 0.1
       },
       "content": {
        "cell": "c4c8921f-ec0b-4302-bd4e-23251c7cd7de",
        "part": "whole"
       },
       "id": "fdeaf8e6-6364-4c4d-a0b7-aeffa5ca4658"
      }
     }
    },
    "564fcf1c-547b-4fc1-a39d-8998a92426ce": {
     "id": "564fcf1c-547b-4fc1-a39d-8998a92426ce",
     "prev": "65ab85a7-29e3-409f-8440-429ff4935863",
     "regions": {
      "d2bce45d-7487-41a5-b872-ecd420e8ada9": {
       "attrs": {
        "height": 0.8,
        "width": 0.8,
        "x": 0.1,
        "y": 0.1
       },
       "content": {
        "cell": "1acdc391-57ed-4c09-854d-b7c8cb07701b",
        "part": "whole"
       },
       "id": "d2bce45d-7487-41a5-b872-ecd420e8ada9"
      }
     }
    },
    "5bde732d-d4dd-4c0a-887b-8ecfbe878dbe": {
     "id": "5bde732d-d4dd-4c0a-887b-8ecfbe878dbe",
     "prev": "65c8bb38-d316-4bae-9a4f-a2853b16d1b7",
     "regions": {
      "af634b4f-62f6-4a77-af50-72798a8ab9fa": {
       "attrs": {
        "height": 0.8,
        "width": 0.8,
        "x": 0.1,
        "y": 0.1
       },
       "content": {
        "cell": "6c4f248a-2039-4d50-946e-934257e12d29",
        "part": "whole"
       },
       "id": "af634b4f-62f6-4a77-af50-72798a8ab9fa"
      }
     }
    },
    "5e7fc216-62a9-4e9e-aec1-86c77ce5811b": {
     "id": "5e7fc216-62a9-4e9e-aec1-86c77ce5811b",
     "prev": "b7abb62f-c11a-4375-a27e-e793c2795a3d",
     "regions": {
      "cd5f198c-ac67-440e-923f-4388a6d666b6": {
       "attrs": {
        "height": 0.8,
        "width": 0.8,
        "x": 0.1,
        "y": 0.1
       },
       "content": {
        "cell": "33897391-05a6-4b4e-a235-9e162427f843",
        "part": "whole"
       },
       "id": "cd5f198c-ac67-440e-923f-4388a6d666b6"
      }
     }
    },
    "5fc39987-5f96-4eef-88a0-b974113bfbab": {
     "id": "5fc39987-5f96-4eef-88a0-b974113bfbab",
     "prev": "c398a942-e2de-433f-b565-b6c258e5f76f",
     "regions": {
      "a5089fac-dd81-4121-81cb-617389f4448b": {
       "attrs": {
        "height": 0.8,
        "width": 0.8,
        "x": 0.1,
        "y": 0.1
       },
       "content": {
        "cell": "86c6424a-3e4a-4e6c-98f1-f9917cc659c8",
        "part": "whole"
       },
       "id": "a5089fac-dd81-4121-81cb-617389f4448b"
      }
     }
    },
    "65ab85a7-29e3-409f-8440-429ff4935863": {
     "id": "65ab85a7-29e3-409f-8440-429ff4935863",
     "prev": "8d834420-65a6-4be5-ab68-621de6fbe163",
     "regions": {
      "d0614420-c749-4937-ab00-52caeb7ba9b0": {
       "attrs": {
        "height": 0.8,
        "width": 0.8,
        "x": 0.1,
        "y": 0.1
       },
       "content": {
        "cell": "0cb9c1e0-21d6-4dfd-bfbe-582238143402",
        "part": "whole"
       },
       "id": "d0614420-c749-4937-ab00-52caeb7ba9b0"
      }
     }
    },
    "65c8bb38-d316-4bae-9a4f-a2853b16d1b7": {
     "id": "65c8bb38-d316-4bae-9a4f-a2853b16d1b7",
     "prev": "50c442dc-bea5-4ccb-a16b-32b67ba7974d",
     "regions": {
      "125c6623-7694-4973-beb8-17015254fbd6": {
       "attrs": {
        "height": 0.8,
        "width": 0.8,
        "x": 0.1,
        "y": 0.1
       },
       "content": {
        "cell": "65a196d3-5416-4ccc-923c-29c06466427c",
        "part": "whole"
       },
       "id": "125c6623-7694-4973-beb8-17015254fbd6"
      }
     }
    },
    "6b170754-f46e-4f7d-b3af-4fc2d6777247": {
     "id": "6b170754-f46e-4f7d-b3af-4fc2d6777247",
     "prev": "df917a16-e756-4db8-ae9a-506e790cf04c",
     "regions": {
      "d9e1fcf9-c339-49db-8020-de72925717c8": {
       "attrs": {
        "height": 0.8,
        "width": 0.8,
        "x": 0.1,
        "y": 0.1
       },
       "content": {
        "cell": "e46c73f6-5607-4af4-b22f-41f3f4dcec9e",
        "part": "whole"
       },
       "id": "d9e1fcf9-c339-49db-8020-de72925717c8"
      }
     }
    },
    "7675660a-4c0e-4fde-bedc-6bfdefe232d4": {
     "id": "7675660a-4c0e-4fde-bedc-6bfdefe232d4",
     "prev": "4d691fc4-2db6-4207-aafe-5534e2efcc31",
     "regions": {
      "46382fff-6b3a-40f9-8af5-25052be0b668": {
       "attrs": {
        "height": 0.8,
        "width": 0.8,
        "x": 0.1,
        "y": 0.1
       },
       "content": {
        "cell": "4adbbc73-2fc9-4f83-8c54-081b32a3375e",
        "part": "whole"
       },
       "id": "46382fff-6b3a-40f9-8af5-25052be0b668"
      }
     }
    },
    "79afa2d5-c641-43ae-8f08-3d64fdd52373": {
     "id": "79afa2d5-c641-43ae-8f08-3d64fdd52373",
     "prev": "defa79e9-d30e-49e9-b206-1dcf6736fd0b",
     "regions": {
      "e01a8964-f684-4035-9ddc-ef3516fdec90": {
       "attrs": {
        "height": 0.8,
        "width": 0.8,
        "x": 0.1,
        "y": 0.1
       },
       "content": {
        "cell": "e0b483f6-ccce-4f20-b082-0546e7f5f1e7",
        "part": "whole"
       },
       "id": "e01a8964-f684-4035-9ddc-ef3516fdec90"
      }
     }
    },
    "7fe8d340-580d-4293-bf70-3058295f0e5f": {
     "id": "7fe8d340-580d-4293-bf70-3058295f0e5f",
     "prev": "168f7f5f-f3e3-46ad-b488-436b5cc1fea0",
     "regions": {
      "ddfe5f89-e891-4b9d-9bdf-c0fc3fbc2c84": {
       "attrs": {
        "height": 0.8,
        "width": 0.8,
        "x": 0.1,
        "y": 0.1
       },
       "content": {
        "cell": "76d05e86-509b-494a-8364-953c74c1aadb",
        "part": "whole"
       },
       "id": "ddfe5f89-e891-4b9d-9bdf-c0fc3fbc2c84"
      }
     }
    },
    "8b8a4005-fafe-4345-b56a-ceea0afd3563": {
     "id": "8b8a4005-fafe-4345-b56a-ceea0afd3563",
     "prev": "c45f3e22-0112-491b-8708-cfb8fd55e67d",
     "regions": {
      "c09e06d3-9ce9-462e-b827-de824b2fd3eb": {
       "attrs": {
        "height": 0.8,
        "width": 0.8,
        "x": 0.1,
        "y": 0.1
       },
       "content": {
        "cell": "0eb291f0-5427-44ad-b55b-08fd1ce2ef01",
        "part": "whole"
       },
       "id": "c09e06d3-9ce9-462e-b827-de824b2fd3eb"
      }
     }
    },
    "8d834420-65a6-4be5-ab68-621de6fbe163": {
     "id": "8d834420-65a6-4be5-ab68-621de6fbe163",
     "prev": "5e7fc216-62a9-4e9e-aec1-86c77ce5811b",
     "regions": {
      "0709a4f5-d5b2-486f-a68d-508ec9b3118a": {
       "attrs": {
        "height": 0.8,
        "width": 0.8,
        "x": 0.1,
        "y": 0.1
       },
       "content": {
        "cell": "757d1ac9-70da-430a-819a-903afd30e0bb",
        "part": "whole"
       },
       "id": "0709a4f5-d5b2-486f-a68d-508ec9b3118a"
      }
     }
    },
    "8f3b675e-7fe6-447e-864b-074941b1619c": {
     "id": "8f3b675e-7fe6-447e-864b-074941b1619c",
     "prev": "42b53f50-3c32-4035-9006-72199a92dfa1",
     "regions": {
      "6b0c668f-bcd7-42e7-886d-8d8a18b8abe7": {
       "attrs": {
        "height": 0.8,
        "width": 0.8,
        "x": 0.1,
        "y": 0.1
       },
       "content": {
        "cell": "e8e3c449-56f2-4b1e-9112-6b013cfc6ec6",
        "part": "whole"
       },
       "id": "6b0c668f-bcd7-42e7-886d-8d8a18b8abe7"
      }
     }
    },
    "9169cd80-86a2-4764-bf37-e1c61e762403": {
     "id": "9169cd80-86a2-4764-bf37-e1c61e762403",
     "prev": "7fe8d340-580d-4293-bf70-3058295f0e5f",
     "regions": {
      "6f9bab17-12fc-4ffd-8ac8-aaf4f5b9666b": {
       "attrs": {
        "height": 0.8,
        "width": 0.8,
        "x": 0.1,
        "y": 0.1
       },
       "content": {
        "cell": "ac2057e4-ca62-4985-af03-04ecaf7c41b5",
        "part": "whole"
       },
       "id": "6f9bab17-12fc-4ffd-8ac8-aaf4f5b9666b"
      }
     }
    },
    "99bfd62c-37d6-4513-975f-7453d45208bf": {
     "id": "99bfd62c-37d6-4513-975f-7453d45208bf",
     "prev": "f2242224-82bb-45d0-948c-e0b58b8456c8",
     "regions": {
      "ec50533b-af5d-4fae-b186-c6dbd88efa04": {
       "attrs": {
        "height": 0.8,
        "width": 0.8,
        "x": 0.1,
        "y": 0.1
       },
       "content": {
        "cell": "92384d6d-bed6-4e4e-bfc1-ddf88de0963e",
        "part": "whole"
       },
       "id": "ec50533b-af5d-4fae-b186-c6dbd88efa04"
      }
     }
    },
    "a67d3ded-1c1a-43ec-ac9d-5fb0946652c2": {
     "id": "a67d3ded-1c1a-43ec-ac9d-5fb0946652c2",
     "prev": "3c0bfcfd-edb6-4599-814d-85a7bdd827d3",
     "regions": {
      "8b1efa67-24eb-47b1-b579-ec26c1e865ee": {
       "attrs": {
        "height": 0.8,
        "width": 0.8,
        "x": 0.1,
        "y": 0.1
       },
       "content": {
        "cell": "aae85c45-c89c-401a-9131-01e07651e0af",
        "part": "whole"
       },
       "id": "8b1efa67-24eb-47b1-b579-ec26c1e865ee"
      }
     }
    },
    "af606d45-02cf-4a7e-b91e-76d47fe00c40": {
     "id": "af606d45-02cf-4a7e-b91e-76d47fe00c40",
     "prev": "2b9c3116-58b8-4773-8bb0-1bf8fe05296d",
     "regions": {
      "e2bb3e5e-7372-4f9a-92a5-70d35bbcc850": {
       "attrs": {
        "height": 0.8,
        "width": 0.8,
        "x": 0.1,
        "y": 0.1
       },
       "content": {
        "cell": "ea824159-e736-4e2a-b024-524e337f6fac",
        "part": "whole"
       },
       "id": "e2bb3e5e-7372-4f9a-92a5-70d35bbcc850"
      }
     }
    },
    "b7abb62f-c11a-4375-a27e-e793c2795a3d": {
     "id": "b7abb62f-c11a-4375-a27e-e793c2795a3d",
     "prev": "131dcdac-6159-44e0-9867-2c6521c536b9",
     "regions": {
      "c41e06a6-86bf-436a-bbd5-25f4733cca6b": {
       "attrs": {
        "height": 0.8,
        "width": 0.8,
        "x": 0.1,
        "y": 0.1
       },
       "content": {
        "cell": "c14452d1-3454-4704-b59a-e18b8251103b",
        "part": "whole"
       },
       "id": "c41e06a6-86bf-436a-bbd5-25f4733cca6b"
      }
     }
    },
    "b8ef6042-0e70-43fe-a97b-c3c5e98e48a9": {
     "id": "b8ef6042-0e70-43fe-a97b-c3c5e98e48a9",
     "prev": "0eb9ee9c-5399-4988-94f3-8cee78537404",
     "regions": {
      "0393ad1f-f602-477d-9561-b9997b6ae0b1": {
       "attrs": {
        "height": 0.8,
        "width": 0.8,
        "x": 0.1,
        "y": 0.1
       },
       "content": {
        "cell": "20019a20-ae7f-4beb-8cd4-d68150382b1e",
        "part": "whole"
       },
       "id": "0393ad1f-f602-477d-9561-b9997b6ae0b1"
      }
     }
    },
    "c398a942-e2de-433f-b565-b6c258e5f76f": {
     "id": "c398a942-e2de-433f-b565-b6c258e5f76f",
     "prev": "8f3b675e-7fe6-447e-864b-074941b1619c",
     "regions": {
      "dd42546e-f361-4901-b289-853b870b5ef9": {
       "attrs": {
        "height": 0.8,
        "width": 0.8,
        "x": 0.1,
        "y": 0.1
       },
       "content": {
        "cell": "77252053-4889-4a38-a497-49465a2e9ac1",
        "part": "whole"
       },
       "id": "dd42546e-f361-4901-b289-853b870b5ef9"
      }
     }
    },
    "c45f3e22-0112-491b-8708-cfb8fd55e67d": {
     "id": "c45f3e22-0112-491b-8708-cfb8fd55e67d",
     "prev": "6b170754-f46e-4f7d-b3af-4fc2d6777247",
     "regions": {
      "d2c1656c-3044-4792-a198-e6148a0f7291": {
       "attrs": {
        "height": 0.8,
        "width": 0.8,
        "x": 0.1,
        "y": 0.1
       },
       "content": {
        "cell": "defd975d-f087-4747-9b2f-06ccde7ee725",
        "part": "whole"
       },
       "id": "d2c1656c-3044-4792-a198-e6148a0f7291"
      }
     }
    },
    "defa79e9-d30e-49e9-b206-1dcf6736fd0b": {
     "id": "defa79e9-d30e-49e9-b206-1dcf6736fd0b",
     "prev": "5bde732d-d4dd-4c0a-887b-8ecfbe878dbe",
     "regions": {
      "d6201f68-d926-464f-af69-b6358baa3169": {
       "attrs": {
        "height": 0.8,
        "width": 0.8,
        "x": 0.1,
        "y": 0.1
       },
       "content": {
        "cell": "3d475195-dd8a-4ce5-8e90-f7bcd42008f4",
        "part": "whole"
       },
       "id": "d6201f68-d926-464f-af69-b6358baa3169"
      }
     }
    },
    "df917a16-e756-4db8-ae9a-506e790cf04c": {
     "id": "df917a16-e756-4db8-ae9a-506e790cf04c",
     "prev": "79afa2d5-c641-43ae-8f08-3d64fdd52373",
     "regions": {
      "d9d17a48-00c5-4ef8-839f-11157b81e4d3": {
       "attrs": {
        "height": 0.8,
        "width": 0.8,
        "x": 0.1,
        "y": 0.1
       },
       "content": {
        "cell": "8f062cb0-836d-47b9-a5fd-a9291431e3dc",
        "part": "whole"
       },
       "id": "d9d17a48-00c5-4ef8-839f-11157b81e4d3"
      }
     }
    },
    "dfb0485f-4165-455b-a321-1368a5593f90": {
     "id": "dfb0485f-4165-455b-a321-1368a5593f90",
     "prev": "af606d45-02cf-4a7e-b91e-76d47fe00c40",
     "regions": {
      "9a34c164-a20e-4e3e-adae-493e61d54955": {
       "attrs": {
        "height": 0.8,
        "width": 0.8,
        "x": 0.1,
        "y": 0.1
       },
       "content": {
        "cell": "236459a0-db19-4ca3-ab64-d36697e6180f",
        "part": "whole"
       },
       "id": "9a34c164-a20e-4e3e-adae-493e61d54955"
      }
     }
    },
    "f2242224-82bb-45d0-948c-e0b58b8456c8": {
     "id": "f2242224-82bb-45d0-948c-e0b58b8456c8",
     "prev": "a67d3ded-1c1a-43ec-ac9d-5fb0946652c2",
     "regions": {
      "e947732f-650c-4a35-ad0a-869a3ba452fe": {
       "attrs": {
        "height": 0.8,
        "width": 0.8,
        "x": 0.1,
        "y": 0.1
       },
       "content": {
        "cell": "3fd06df9-1eec-447c-bed7-d88be2d8d4d9",
        "part": "whole"
       },
       "id": "e947732f-650c-4a35-ad0a-869a3ba452fe"
      }
     }
    },
    "f788e7d5-5631-4090-b44e-03ea24aa1887": {
     "id": "f788e7d5-5631-4090-b44e-03ea24aa1887",
     "prev": "10844e3a-543e-48a6-b696-d4dcfd40d55f",
     "regions": {
      "d441b345-210c-492c-8540-b0f3e833269c": {
       "attrs": {
        "height": 0.8,
        "width": 0.8,
        "x": 0.1,
        "y": 0.1
       },
       "content": {
        "cell": "24af87db-9051-4768-9064-079dc5e9b965",
        "part": "whole"
       },
       "id": "d441b345-210c-492c-8540-b0f3e833269c"
      }
     }
    }
   },
   "themes": {}
  }
 },
 "nbformat": 4,
 "nbformat_minor": 1
}
